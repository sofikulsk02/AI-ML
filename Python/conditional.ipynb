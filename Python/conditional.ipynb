{
 "cells": [
  {
   "cell_type": "code",
   "execution_count": 2,
   "metadata": {},
   "outputs": [
    {
     "name": "stdout",
     "output_type": "stream",
     "text": [
      "You are an adult and you can vote\n"
     ]
    }
   ],
   "source": [
    "age=int(input(\"what is your age\"))\n",
    "if age>=18:\n",
    "    print('You are an adult and you can vote')\n",
    "else:\n",
    "    print(\"you can't vote\")    "
   ]
  },
  {
   "cell_type": "code",
   "execution_count": 4,
   "metadata": {},
   "outputs": [
    {
     "name": "stdout",
     "output_type": "stream",
     "text": [
      "The num is an odd number\n"
     ]
    }
   ],
   "source": [
    "num=int(input('Tell me a number'))\n",
    "if num%2==0:\n",
    "    print(\"the num is an even number\")\n",
    "else:\n",
    "    print(\"The num is an odd number\")    "
   ]
  },
  {
   "cell_type": "code",
   "execution_count": 8,
   "metadata": {},
   "outputs": [
    {
     "name": "stdout",
     "output_type": "stream",
     "text": [
      "The number is divisible by 3 and not 5\n"
     ]
    }
   ],
   "source": [
    "n=int(input(\"Tell me a number\"))\n",
    "if n%3==0:\n",
    "    if n%5==0:\n",
    "        print('The number is divisible by 3 and 5 both')\n",
    "    else:\n",
    "        print(\"The number is divisible by 3 and not 5\")\n",
    "elif n%5==0:\n",
    "    print(\"the number is divisible by 5 and not 3\")\n",
    "    \n",
    "else :\n",
    "    print('The number is not divisible by 3 or 5')                "
   ]
  },
  {
   "cell_type": "code",
   "execution_count": 13,
   "metadata": {},
   "outputs": [
    {
     "name": "stdout",
     "output_type": "stream",
     "text": [
      "11.5\n"
     ]
    }
   ],
   "source": [
    "num1=int(input(\"Enter the first number\"))\n",
    "num2=int(input(\"Enter the second number\"))\n",
    "operator=input(\"Enter the operator\")\n",
    " \n",
    "if operator=='+':\n",
    "    print(num1+num2)\n",
    "elif operator=='-':\n",
    "    print(num1-num2)\n",
    "elif operator=='*':\n",
    "    print(num1*num2)\n",
    "elif operator=='/':\n",
    "    print(num1/num2)\n",
    "else :\n",
    "    print('someting went wrong')                "
   ]
  }
 ],
 "metadata": {
  "kernelspec": {
   "display_name": "Python 3",
   "language": "python",
   "name": "python3"
  },
  "language_info": {
   "codemirror_mode": {
    "name": "ipython",
    "version": 3
   },
   "file_extension": ".py",
   "mimetype": "text/x-python",
   "name": "python",
   "nbconvert_exporter": "python",
   "pygments_lexer": "ipython3",
   "version": "3.10.15"
  }
 },
 "nbformat": 4,
 "nbformat_minor": 2
}
