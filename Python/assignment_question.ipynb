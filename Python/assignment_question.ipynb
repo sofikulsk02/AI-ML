{
 "cells": [
  {
   "cell_type": "markdown",
   "metadata": {},
   "source": [
    "# Lesson 1.2: Python Basics\n",
    "## Topics Covered:\n",
    "- Syntax and Semantics\n",
    "- Variables and Data Types\n",
    "- Basic Operators (Arithmetic, Comparison, Logical)\n"
   ]
  },
  {
   "cell_type": "markdown",
   "metadata": {},
   "source": [
    "## 1. Syntax and Semantics\n",
    "\n",
    "**Question 1:** Write a Python program to print \"Hello, World!\"."
   ]
  },
  {
   "cell_type": "code",
   "execution_count": 1,
   "metadata": {},
   "outputs": [
    {
     "name": "stdout",
     "output_type": "stream",
     "text": [
      "Hello world\n"
     ]
    }
   ],
   "source": [
    "# Your code here\n",
    "print(\"Hello world\")"
   ]
  },
  {
   "cell_type": "markdown",
   "metadata": {},
   "source": [
    "**Question 2:** Write a Python program that takes a user input and prints it."
   ]
  },
  {
   "cell_type": "code",
   "execution_count": 3,
   "metadata": {},
   "outputs": [
    {
     "name": "stdout",
     "output_type": "stream",
     "text": [
      "your name is:rajib\n"
     ]
    }
   ],
   "source": [
    "# Your code here\n",
    "name=input(\"Enter your name\");\n",
    "print(\"your name is:\"+name)"
   ]
  },
  {
   "cell_type": "markdown",
   "metadata": {},
   "source": [
    "**Question 3:** Write a Python program to check if a number is positive, negative, or zero."
   ]
  },
  {
   "cell_type": "code",
   "execution_count": 2,
   "metadata": {},
   "outputs": [
    {
     "name": "stdout",
     "output_type": "stream",
     "text": [
      "positive\n"
     ]
    }
   ],
   "source": [
    "# Your code here\n",
    "num=int(input(\"Enter the number\"))\n",
    "if(num==0):\n",
    "    print(\"Zero\")\n",
    "if(num<0):\n",
    "    print(\"negative\")\n",
    "else:\n",
    "    print(\"positive\")"
   ]
  },
  {
   "cell_type": "markdown",
   "metadata": {},
   "source": [
    "**Question 4:** Write a Python program to find the largest of three numbers."
   ]
  },
  {
   "cell_type": "code",
   "execution_count": 10,
   "metadata": {},
   "outputs": [],
   "source": [
    "# Your code here\n",
    "a=input(\"a:\")\n",
    "b=input(\"b:\")\n",
    "c=input(\"c:\")\n",
    "if(a>b):\n",
    "    if(a>c):print(a)\n",
    "elif(b>a):\n",
    "    if(b>c):print(b);\n",
    "else:print(c)        "
   ]
  },
  {
   "cell_type": "markdown",
   "metadata": {},
   "source": [
    "**Question 5:** Write a Python program to calculate the factorial of a number."
   ]
  },
  {
   "cell_type": "code",
   "execution_count": 15,
   "metadata": {},
   "outputs": [
    {
     "name": "stdout",
     "output_type": "stream",
     "text": [
      "5040\n"
     ]
    }
   ],
   "source": [
    "# Your code here\n",
    "def factorial(num):\n",
    "    if(num==1):return 1;\n",
    "    return factorial(num-1)*num;\n",
    "print(factorial(7));"
   ]
  },
  {
   "cell_type": "markdown",
   "metadata": {},
   "source": [
    "## 2. Variables and Data Types\n",
    "\n",
    "**Question 6:** Create variables of different data types: integer, float, string, and boolean. Print their values and types."
   ]
  },
  {
   "cell_type": "code",
   "execution_count": 16,
   "metadata": {},
   "outputs": [
    {
     "name": "stdout",
     "output_type": "stream",
     "text": [
      "10 10.3 rajib sk True\n"
     ]
    }
   ],
   "source": [
    "# Your code here\n",
    "num=10;\n",
    "num_d=10.3\n",
    "name=\"rajib sk\"\n",
    "isStudent=True\n",
    "\n",
    "print(num,num_d,name,isStudent)"
   ]
  },
  {
   "cell_type": "markdown",
   "metadata": {},
   "source": [
    "**Question 7:** Write a Python program to swap the values of two variables."
   ]
  },
  {
   "cell_type": "code",
   "execution_count": 17,
   "metadata": {},
   "outputs": [
    {
     "name": "stdout",
     "output_type": "stream",
     "text": [
      "19\n",
      "10\n"
     ]
    }
   ],
   "source": [
    "# Your code here\n",
    "a=input(\"a\")\n",
    "b=input(\"b\")\n",
    "temp=b;\n",
    "b=a;\n",
    "a=temp\n",
    "print(a)\n",
    "print(b)"
   ]
  },
  {
   "cell_type": "markdown",
   "metadata": {},
   "source": [
    "**Question 8:** Write a Python program to convert Celsius to Fahrenheit."
   ]
  },
  {
   "cell_type": "code",
   "execution_count": 20,
   "metadata": {},
   "outputs": [
    {
     "name": "stdout",
     "output_type": "stream",
     "text": [
      "32.0\n"
     ]
    }
   ],
   "source": [
    "# Your code here\n",
    "cel=input('Celsius')\n",
    "fahrenheit=9/5*float(cel)+32\n",
    "print(fahrenheit)"
   ]
  },
  {
   "cell_type": "markdown",
   "metadata": {},
   "source": [
    "**Question 9:** Write a Python program to concatenate two strings."
   ]
  },
  {
   "cell_type": "code",
   "execution_count": 23,
   "metadata": {},
   "outputs": [
    {
     "name": "stdout",
     "output_type": "stream",
     "text": [
      "rajib sk is my name i am from westBengal\n"
     ]
    }
   ],
   "source": [
    "# Your code here\n",
    "str1=\"rajib sk is my name \"\n",
    "str2=\"i am from westBengal\"\n",
    "str3=str1+str2\n",
    "print(str3)"
   ]
  },
  {
   "cell_type": "markdown",
   "metadata": {},
   "source": [
    "**Question 10:** Write a Python program to check if a variable is of a specific data type."
   ]
  },
  {
   "cell_type": "code",
   "execution_count": 6,
   "metadata": {},
   "outputs": [
    {
     "name": "stdout",
     "output_type": "stream",
     "text": [
      "<class 'int'>\n",
      "<class 'float'>\n",
      "<class 'str'>\n",
      "<class 'list'>\n",
      "<class 'dict'>\n"
     ]
    }
   ],
   "source": [
    "# Your code here\n",
    "x = 5  \n",
    "print(type(x)) # Output: <class 'int'>  \n",
    "y = 3.14  \n",
    "print(type(y)) # Output: <class 'float'>  \n",
    "z = 'hello'  \n",
    "print(type(z)) # Output: <class 'str'>  \n",
    "a = [1, 2, 3]  \n",
    "print(type(a)) # Output: <class 'list'>  \n",
    "b = {'name': 'John', 'age': 30}  \n",
    "print(type(b)) # Output: <class 'dict'>  "
   ]
  },
  {
   "cell_type": "markdown",
   "metadata": {},
   "source": [
    "## 3. Basic Operators (Arithmetic, Comparison, Logical)\n",
    "\n",
    "**Question 11:** Write a Python program to perform arithmetic operations: addition, subtraction, multiplication, and division."
   ]
  },
  {
   "cell_type": "code",
   "execution_count": 7,
   "metadata": {},
   "outputs": [
    {
     "name": "stdout",
     "output_type": "stream",
     "text": [
      "22\n"
     ]
    }
   ],
   "source": [
    "# Your code here\n",
    "num1=int(input(\"Enter the first number\"))\n",
    "num2=int(input(\"Enter the second number\"))\n",
    "operator=input(\"Enter the operator\")\n",
    " \n",
    "if operator=='+':\n",
    "    print(num1+num2)\n",
    "elif operator=='-':\n",
    "    print(num1-num2)\n",
    "elif operator=='*':\n",
    "    print(num1*num2)\n",
    "elif operator=='/':\n",
    "    print(num1/num2)\n",
    "else :\n",
    "    print('someting went wrong')                "
   ]
  },
  {
   "cell_type": "markdown",
   "metadata": {},
   "source": [
    "**Question 12:** Write a Python program to demonstrate comparison operators: equal to, not equal to, greater than, less than."
   ]
  },
  {
   "cell_type": "code",
   "execution_count": 8,
   "metadata": {},
   "outputs": [
    {
     "name": "stdout",
     "output_type": "stream",
     "text": [
      "You are a minor\n"
     ]
    }
   ],
   "source": [
    "# Your code here\n",
    "age=int(input('Enter your age'))\n",
    "\n",
    "if age==18:\n",
    "    print('you just turned to an adult')\n",
    "elif age>18:\n",
    "    print('You are an adult')\n",
    "elif age<18:\n",
    "    print(\"You are a minor\")\n",
    "else:\n",
    "    print('invalid age')            "
   ]
  },
  {
   "cell_type": "markdown",
   "metadata": {},
   "source": [
    "**Question 13:** Write a Python program to demonstrate logical operators: and, or, not."
   ]
  },
  {
   "cell_type": "code",
   "execution_count": 9,
   "metadata": {},
   "outputs": [
    {
     "name": "stdout",
     "output_type": "stream",
     "text": [
      "the number is divisible by 3 but not with 5\n"
     ]
    }
   ],
   "source": [
    "# Your code here\n",
    "val=int(input('Enter a number'))\n",
    "\n",
    "if val%3==0 and val%5==0:\n",
    "    print('The number is divisible by 3 and 5 both')\n",
    "elif val%3==0 and val%5!=0:\n",
    "    print('the number is divisible by 3 but not with 5')    \n",
    "elif val%5==0 and val%3!=0:\n",
    "    print('the number is divisible by 5 but not with 3')    \n",
    "elif val%3==0 or val%5==0:\n",
    "    print('the numnber is either divisible by 3 or 5')  #this line will never execute i have written this just to use the 'or' opeartor\n",
    "else:\n",
    "    print('Something went wrong')    \n",
    "\n",
    "    "
   ]
  },
  {
   "cell_type": "markdown",
   "metadata": {},
   "source": [
    "**Question 14:** Write a Python program to calculate the square of a number."
   ]
  },
  {
   "cell_type": "code",
   "execution_count": 10,
   "metadata": {},
   "outputs": [
    {
     "name": "stdout",
     "output_type": "stream",
     "text": [
      "4\n"
     ]
    }
   ],
   "source": [
    "# Your code here\n",
    "n=int(input(\"Enter the desired number\"))\n",
    "print(n*n)"
   ]
  },
  {
   "cell_type": "markdown",
   "metadata": {},
   "source": [
    "**Question 15:** Write a Python program to check if a number is even or odd."
   ]
  },
  {
   "cell_type": "code",
   "execution_count": 11,
   "metadata": {},
   "outputs": [
    {
     "name": "stdout",
     "output_type": "stream",
     "text": [
      "even\n"
     ]
    }
   ],
   "source": [
    "# Your code here\n",
    "num=10;\n",
    "if num%2==0:\n",
    "    print('even')\n",
    "elif num%2!=0:\n",
    "    print(\"odd\")\n",
    "else:\n",
    "    print(\"Invalid number\")        "
   ]
  },
  {
   "cell_type": "markdown",
   "metadata": {},
   "source": [
    "**Question 16:** Write a Python program to find the sum of the first n natural numbers."
   ]
  },
  {
   "cell_type": "code",
   "execution_count": 3,
   "metadata": {},
   "outputs": [
    {
     "name": "stdout",
     "output_type": "stream",
     "text": [
      "15\n"
     ]
    }
   ],
   "source": [
    "# Your code here\n",
    "def sumOfN(num):\n",
    "    if num==1:\n",
    "        return 1\n",
    "    return num+sumOfN(num-1)\n",
    "\n",
    "print(sumOfN(5))"
   ]
  },
  {
   "cell_type": "markdown",
   "metadata": {},
   "source": [
    "**Question 17:** Write a Python program to check if a year is a leap year."
   ]
  },
  {
   "cell_type": "code",
   "execution_count": 4,
   "metadata": {},
   "outputs": [
    {
     "name": "stdout",
     "output_type": "stream",
     "text": [
      "2020 is a leap year.\n"
     ]
    }
   ],
   "source": [
    "# Your code here\n",
    "def is_leap_year(year):\n",
    "    if (year % 4 == 0 and year % 100 != 0) or (year % 400 == 0):\n",
    "        return True\n",
    "    else:\n",
    "        return False\n",
    "    \n",
    "year = int(input(\"Enter a year: \"))\n",
    "\n",
    "if is_leap_year(year):\n",
    "    print(f\"{year} is a leap year.\")\n",
    "else:\n",
    "    print(f\"{year} is not a leap year.\")\n"
   ]
  },
  {
   "cell_type": "markdown",
   "metadata": {},
   "source": [
    "**Question 18:** Write a Python program to reverse a string."
   ]
  },
  {
   "cell_type": "code",
   "execution_count": 5,
   "metadata": {},
   "outputs": [
    {
     "name": "stdout",
     "output_type": "stream",
     "text": [
      "Reversed string: !dlroW ,olleH\n"
     ]
    }
   ],
   "source": [
    "# Your code here\n",
    "string = \"Hello, World!\"\n",
    "\n",
    "reversed_string = \"\"\n",
    "for char in string:\n",
    "    reversed_string = char + reversed_string\n",
    "\n",
    "# Output\n",
    "print(\"Reversed string:\", reversed_string)\n"
   ]
  },
  {
   "cell_type": "markdown",
   "metadata": {},
   "source": [
    "**Question 19:** Write a Python program to check if a string is a palindrome."
   ]
  },
  {
   "cell_type": "code",
   "execution_count": 10,
   "metadata": {},
   "outputs": [
    {
     "name": "stdout",
     "output_type": "stream",
     "text": [
      "this is a palindrome\n"
     ]
    }
   ],
   "source": [
    "# Your code here\n",
    "str1=input('Enter the first string')\n",
    "str2=str1\n",
    "\n",
    "reversed_string = \"\".join(reversed(str2))\n",
    "\n",
    "if str1==reversed_string:\n",
    "    print('this is a palindrome')\n",
    "else:\n",
    "    print('not a palindrome')    \n",
    "    \n",
    "    \n",
    "    # str1 = input(\"Enter the string: \")\n",
    "\n",
    "# if str1 == str1[::-1]:\n",
    "#     print(\"This is a palindrome\")\n",
    "# else:\n",
    "#     print(\"Not a palindrome\")\n"
   ]
  },
  {
   "cell_type": "markdown",
   "metadata": {},
   "source": [
    "**Question 20:** Write a Python program to sort a list of numbers in ascending order."
   ]
  },
  {
   "cell_type": "code",
   "execution_count": 9,
   "metadata": {},
   "outputs": [
    {
     "name": "stdout",
     "output_type": "stream",
     "text": [
      "[11, 12, 22, 34, 35, 67, 76, 98]\n"
     ]
    }
   ],
   "source": [
    "# Your code here\n",
    "nums=[76,22,11,98,12,34,35,67];\n",
    "nums.sort()\n",
    "print(nums)\n"
   ]
  }
 ],
 "metadata": {
  "kernelspec": {
   "display_name": "Python 3",
   "language": "python",
   "name": "python3"
  },
  "language_info": {
   "codemirror_mode": {
    "name": "ipython",
    "version": 3
   },
   "file_extension": ".py",
   "mimetype": "text/x-python",
   "name": "python",
   "nbconvert_exporter": "python",
   "pygments_lexer": "ipython3",
   "version": "3.10.15"
  }
 },
 "nbformat": 4,
 "nbformat_minor": 4
}
